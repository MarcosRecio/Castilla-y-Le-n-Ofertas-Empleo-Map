{
 "cells": [
  {
   "cell_type": "code",
   "execution_count": 1,
   "metadata": {},
   "outputs": [],
   "source": [
    "# Map Castilla y León cultural agenda geolocalized\n",
    "import os\n",
    "import folium  # Maps library\n",
    "import requests # Library to make url requests\n",
    "import time\n",
    "import webbrowser\n",
    "import bs4 # Web Scrapping\n",
    "import random\n",
    "import base64"
   ]
  },
  {
   "cell_type": "code",
   "execution_count": 9,
   "metadata": {},
   "outputs": [
    {
     "name": "stdout",
     "output_type": "stream",
     "text": [
      "https://datosabiertos.jcyl.es/web/jcyl/risp/es/empleo/ofertas-empleo/1284354353012.json\n"
     ]
    }
   ],
   "source": [
    "# Web Scrapping\n",
    "\n",
    "#cyl = \"https://datosabiertos.jcyl.es/web/es/datos-abiertos-castilla-leon.html\"\n",
    "cyl = \"https://datosabiertos.jcyl.es/web/jcyl/RISP/es/PlantillaBuscadorContenidos/1284162104333/Dataset/1284197734502/_?p0=false&p2=Dataset&tituloc=true&q=empleos&aceptar=Buscar\"\n",
    "def scrap(url):\n",
    "    r  = requests.get(url)\n",
    "\n",
    "    data = r.text\n",
    "\n",
    "    soup = bs4.BeautifulSoup(data, \"html.parser\")\n",
    "    \n",
    "    return soup\n",
    "soup = scrap(cyl)\n",
    "\n",
    "# Locating website Ofertas de Empleo dataset\n",
    "empleo = [x.get('href') for x in soup.findAll('a') if 'ofertas' in x.get('href')][0]\n",
    "# Locating JSON file\n",
    "soup = scrap(empleo)\n",
    "cyl_json = [link.get('href') for link in soup.findAll('a') if \"json\" in link.get('href')][0]\n",
    "print(cyl_json)\n"
   ]
  },
  {
   "cell_type": "code",
   "execution_count": 10,
   "metadata": {},
   "outputs": [
    {
     "name": "stdout",
     "output_type": "stream",
     "text": [
      "['42.727966', '-6.276766']\n"
     ]
    }
   ],
   "source": [
    "\"\"\"\n",
    "while True:\n",
    "\"\"\"   \n",
    "# Requesting the file\n",
    "r = requests.get(cyl_json)\n",
    "    \n",
    "# Having the file as a JSON object\n",
    "r = r.json()\n",
    "\n",
    "#date = r['document']['date']\n",
    "\n",
    "empleos = r['document']['list']\n",
    "print(empleos[0]['element']['attribute'][9]['LocalidadPadre'].split('#')[:-1])"
   ]
  },
  {
   "cell_type": "code",
   "execution_count": 11,
   "metadata": {},
   "outputs": [],
   "source": [
    "# Creating a map\n",
    "centro = empleos[0]['element']['attribute'][9]['LocalidadPadre'].split('#')[:-1]\n",
    "centro_posicion = [float(centro[0]),float(centro[1])]\n",
    "folium_map = folium.Map(center=centro_posicion , zoom_start = 15000)\n",
    "\n",
    "# Creating a circle on the map\n",
    "for i in empleos:\n",
    "    titulo = i['element']['attribute'][1]['text']\n",
    "    fecha = i['element']['attribute'][3]['date']\n",
    "    content = i['element']['attribute'][-1]['valor']\n",
    "    if 'LocalidadPadre' in i['element']['attribute'][9]:\n",
    "        latlong = i['element']['attribute'][9]['LocalidadPadre'].split('#')[:-1]\n",
    "    if latlong!= []:\n",
    "        posicion = [float(latlong[0]),float(latlong[1])]\n",
    "    folium.Circle(\n",
    "        radius=100,\n",
    "        location= posicion,\n",
    "        popup= content, \n",
    "        tooltip= titulo+'\\n\\n'+ fecha,\n",
    "        color= '#'+str(random.randint(0,999999)),\n",
    "        fill=True,\n",
    "        ).add_to(folium_map)"
   ]
  },
  {
   "cell_type": "code",
   "execution_count": 12,
   "metadata": {},
   "outputs": [],
   "source": [
    "# Saving the map to a HTML file to be read by a web browser\n",
    "pagina = folium_map.save('cyl_empleos.html')"
   ]
  },
  {
   "cell_type": "code",
   "execution_count": 13,
   "metadata": {},
   "outputs": [
    {
     "data": {
      "text/plain": [
       "True"
      ]
     },
     "execution_count": 13,
     "metadata": {},
     "output_type": "execute_result"
    }
   ],
   "source": [
    "# Run html in webbrowser\n",
    "webbrowser.open('file://'+ os.path.realpath('cyl_empleos.html'), new = -1)"
   ]
  }
 ],
 "metadata": {
  "kernelspec": {
   "display_name": "Python 3",
   "language": "python",
   "name": "python3"
  },
  "language_info": {
   "codemirror_mode": {
    "name": "ipython",
    "version": 3
   },
   "file_extension": ".py",
   "mimetype": "text/x-python",
   "name": "python",
   "nbconvert_exporter": "python",
   "pygments_lexer": "ipython3",
   "version": "3.6.9"
  }
 },
 "nbformat": 4,
 "nbformat_minor": 4
}
